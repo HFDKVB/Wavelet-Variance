{
 "cells": [
  {
   "cell_type": "code",
   "execution_count": 3,
   "id": "08f1fcf0-5fe2-42b1-93e6-156b0cc1a429",
   "metadata": {},
   "outputs": [],
   "source": [
    "from waveletvar import *\n",
    "import ccxt\n",
    "import pandas as pd\n",
    "import numpy as np\n",
    "from datetime import datetime, timedelta"
   ]
  },
  {
   "cell_type": "code",
   "execution_count": 18,
   "id": "28b31111-e5e6-49fa-bac9-a58658449eba",
   "metadata": {},
   "outputs": [],
   "source": [
    "exchange = ccxt.binance()\n",
    "btc_symbol = 'BTC/USDT'\n",
    "sol_symbol = 'SOL/USDT'\n",
    "end_date = datetime.now()\n",
    "start_date = end_date - timedelta(days=720)\n",
    "\n",
    "\n",
    "btc_ohlcv = exchange.fetch_ohlcv(btc_symbol, timeframe='1d', since=int(start_date.timestamp() * 1000), limit=720)\n",
    "btc_df = pd.DataFrame(btc_ohlcv, columns=['timestamp', 'open', 'high', 'low', 'close', 'volume'])\n",
    "btc_df['timestamp'] = pd.to_datetime(btc_df['timestamp'], unit='ms', utc=True)  # Ensure UTC\n",
    "btc_df.set_index('timestamp', inplace=True)\n",
    "\n",
    "sol_ohlcv = exchange.fetch_ohlcv(sol_symbol, timeframe='1d', since=int(start_date.timestamp() * 1000), limit=720)\n",
    "sol_df = pd.DataFrame(sol_ohlcv, columns=['timestamp', 'open', 'high', 'low', 'close', 'volume'])\n",
    "sol_df['timestamp'] = pd.to_datetime(sol_df['timestamp'], unit='ms', utc=True)  # Ensure UTC\n",
    "sol_df.set_index('timestamp', inplace=True)\n",
    "\n",
    "\n",
    "\n",
    "btc_data = np.log(btc_df[['close']].rename(columns={'close': 'BTC'}))\n",
    "sol_data = np.log(sol_df[['close']].rename(columns={'close': 'SOL'}))\n",
    "\n",
    "combined_data = pd.merge(btc_data, sol_data, left_index=True, right_index=True, how='inner')\n",
    "\n",
    "# Convert to NumPy arrays\n",
    "btc_array = combined_data['BTC'].to_numpy()\n",
    "sol_array = combined_data['SOL'].to_numpy()\n"
   ]
  },
  {
   "cell_type": "code",
   "execution_count": 27,
   "id": "bd2fe239-360c-4426-91fc-f6d29910a8c9",
   "metadata": {},
   "outputs": [
    {
     "data": {
      "text/plain": [
       "np.float64(9.491853096329674)"
      ]
     },
     "execution_count": 27,
     "metadata": {},
     "output_type": "execute_result"
    }
   ],
   "source": [
    "np.log2(720)"
   ]
  },
  {
   "cell_type": "code",
   "execution_count": 41,
   "id": "d0e922f7-bbaf-4da5-be0c-f4450efc1d1d",
   "metadata": {},
   "outputs": [
    {
     "data": {
      "text/plain": [
       "[np.float64(111.1313401012607),\n",
       " np.float64(124.54456382123027),\n",
       " np.float64(140.55507495040794)]"
      ]
     },
     "execution_count": 41,
     "metadata": {},
     "output_type": "execute_result"
    }
   ],
   "source": [
    "wavelet_variance_CI(btc_array, \"sym4\", 6, 0.05)"
   ]
  }
 ],
 "metadata": {
  "kernelspec": {
   "display_name": "Python 3 (ipykernel)",
   "language": "python",
   "name": "python3"
  },
  "language_info": {
   "codemirror_mode": {
    "name": "ipython",
    "version": 3
   },
   "file_extension": ".py",
   "mimetype": "text/x-python",
   "name": "python",
   "nbconvert_exporter": "python",
   "pygments_lexer": "ipython3",
   "version": "3.12.7"
  }
 },
 "nbformat": 4,
 "nbformat_minor": 5
}
